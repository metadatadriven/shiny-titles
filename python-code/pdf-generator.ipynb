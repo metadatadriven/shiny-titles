{
 "cells": [
  {
   "cell_type": "code",
   "execution_count": null,
   "id": "ebdeb80a-503f-4446-bddb-d835d12f04c2",
   "metadata": {},
   "outputs": [],
   "source": [
    "# Simple code snippet to produce a PDF"
   ]
  },
  {
   "cell_type": "code",
   "execution_count": 4,
   "id": "3b4a2ad9-2184-41b8-adf6-04645237a8ef",
   "metadata": {},
   "outputs": [],
   "source": [
    "import subprocess\n",
    "import sys\n",
    "\n",
    "def install(package):\n",
    "    subprocess.check_call([sys.executable, \"-m\", \"pip\", \"install\", reportlab])"
   ]
  },
  {
   "cell_type": "code",
   "execution_count": 3,
   "id": "ce157939-f200-4f8e-af81-cb55d1bda0fe",
   "metadata": {},
   "outputs": [],
   "source": [
    "# Let's import the needed package\n",
    "from reportlab.pdfgen import canvas\n",
    "\n",
    "my_canvas = canvas.Canvas(\"/mnt/artifacts/resultsmetadata-example.pdf\")\n",
    "my_canvas.drawString(100, 750, \"Welcome to our self generated report based on an\")\n",
    "my_canvas.drawString(100, 735, \"trigger in the Domino API when modifying the Metadata document!\")\n",
    "my_canvas.save()"
   ]
  },
  {
   "cell_type": "code",
   "execution_count": null,
   "id": "512ab949-489f-42fd-a0bc-58f53562c994",
   "metadata": {},
   "outputs": [],
   "source": []
  }
 ],
 "metadata": {
  "kernelspec": {
   "display_name": "Python 3 (ipykernel)",
   "language": "python",
   "name": "python3"
  },
  "language_info": {
   "codemirror_mode": {
    "name": "ipython",
    "version": 3
   },
   "file_extension": ".py",
   "mimetype": "text/x-python",
   "name": "python",
   "nbconvert_exporter": "python",
   "pygments_lexer": "ipython3",
   "version": "3.8.12"
  }
 },
 "nbformat": 4,
 "nbformat_minor": 5
}
